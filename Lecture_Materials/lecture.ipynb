{
  "cells": [
    {
      "cell_type": "markdown",
      "metadata": {},
      "source": [
        "# 1. Introduction & Setup\n",
        "Welcome to Python programming! Think of this course as learning to drive a car: first you learn what each part does, then you practice driving, and finally you go on your own coding journeys.\n",
        "\n",
        "**By the end of this lesson you will:**\n",
        "- Know what Python is and where it shines\n",
        "- Have your environment set up to write and run Python code\n",
        "\n",
        "## What Is Python?\n",
        "- Imagine a Swiss Army knife: one tool with many attachments.\n",
        "- Python is that: simple, versatile, and everywhere—from web apps to data science.\n",
        "\n",
        "## Your Coding Workspace\n",
        "We'll use **Jupyter Notebooks**, which are like interactive notebooks where you can write code in small steps and see results instantly.\n",
        "\n",
        "### Quick Setup\n",
        "1. Install Python 3.8+ from python.org\n",
        "2. Install JupyterLab: `pip install jupyterlab`\n",
        "3. (Optional) Install VS Code or Sublime Text and their Python extensions\n",
        "4. Launch: `jupyter lab` or open notebooks in your editor\n"
      ]
    },
    {
      "cell_type": "code",
      "execution_count": 1,
      "metadata": {},
      "outputs": [
        {
          "name": "stdout",
          "output_type": "stream",
          "text": [
            "Hello, Python World!\n"
          ]
        }
      ],
      "source": [
        "# Hello, Python World!\n",
        "print('Hello, Python World!')"
      ]
    },
    {
      "cell_type": "markdown",
      "metadata": {},
      "source": [
        "# 2. Variables, Data Types & Operators\n",
        "Imagine your code as a kitchen and **variables** as labeled jars on the counter. Each jar holds an ingredient (a value) and the label tells you what’s inside.\n",
        "\n",
        "**In this lesson you will:**\n",
        "- Create and rename jars (variables)\n",
        "- Choose the right ingredient (data type)\n",
        "- Use kitchen tools (operators) to mix ingredients\n",
        "\n",
        "## Variables: Your Jars\n",
        "- `age = 20` ⇒ you’ve labeled a jar `age` with the value `20` inside.\n",
        "- You can refill or rename any jar at any time.\n",
        "\n",
        "## Data Types: Your Ingredients\n",
        "- **int**: Whole numbers (5, 42)\n",
        "- **float**: Decimal numbers (3.14, 0.001)\n",
        "- **str**: Text (`\"Hello World\"`)\n",
        "- **bool**: True/False flags\n",
        "\n",
        "## Operators: Your Kitchen Tools\n",
        "- `+`, `-`, `*`, `/`, `%` for math\n",
        "- `==`, `!=`, `>`, `<` for comparisons\n",
        "\n",
        "### Try It Yourself"
      ]
    },
    {
      "cell_type": "code",
      "execution_count": 2,
      "metadata": {},
      "outputs": [
        {
          "name": "stdout",
          "output_type": "stream",
          "text": [
            "Sam is 20 years old and will be 30 in 10 years.\n"
          ]
        }
      ],
      "source": [
        "# Fill your jars\n",
        "age = 20\n",
        "height = 1.75\n",
        "name = \"Sam\"\n",
        "\n",
        "# Mix with tools\n",
        "years_until_30 = 30 - age\n",
        "print(f\"{name} is {age} years old and will be 30 in {years_until_30} years.\")"
      ]
    },
    {
      "cell_type": "markdown",
      "metadata": {},
      "source": [
        "# 3. Formatted String Literals (f-strings)\n",
        "f-strings let you embed expressions and variables directly into strings. They make your code more readable.\n",
        "\n",
        "**By the end of this lesson you will:**\n",
        "- Write f-strings with `{}`\n",
        "- Include simple expressions and variables\n",
        "- Use basic formatting like setting decimal precision\n",
        "\n",
        "## Basic Syntax\n",
        "Prepend your string with `f` and include variables in `{}`:\n",
        "```python\n",
        "name = \"Alice\"\n",
        "age = 30\n",
        "print(f\"{name} is {age} years old.\")\n",
        "```\n",
        "\n",
        "## Formatting Numbers\n",
        "Use `:` inside `{}` to set precision:\n",
        "```python\n",
        "price = 4.5\n",
        "print(f\"Price: {price:.2f}\")  # 2 decimal places\n",
        "```"
      ]
    },
    {
      "cell_type": "code",
      "execution_count": 3,
      "metadata": {},
      "outputs": [
        {
          "name": "stdout",
          "output_type": "stream",
          "text": [
            "Bob is 25 years old.\n",
            "Circle area (r=3): 28.274\n"
          ]
        }
      ],
      "source": [
        "# f-string examples\n",
        "name = \"Bob\"\n",
        "age = 25\n",
        "print(f\"{name} is {age} years old.\")\n",
        "\n",
        "import math\n",
        "radius = 3\n",
        "area = math.pi * radius**2\n",
        "print(f\"Circle area (r={radius}): {area:.3f}\")"
      ]
    },
    {
      "cell_type": "markdown",
      "metadata": {},
      "source": [
        "# 4. User Input & Type Conversion\n",
        "When you ask the user for input, Python returns a **string**. You often need to convert it to the right type.\n",
        "\n",
        "**In this lesson you will:**\n",
        "- Use `input()` to get user data\n",
        "- Convert strings to `int`, `float`, or `bool`\n",
        "\n",
        "## Getting Input\n",
        "```python\n",
        "age_str = input(\"Enter your age: \")  # returns a string\n",
        "```\n",
        "## Converting Types\n",
        "- `int(age_str)` → integer\n",
        "- `float(age_str)` → floating-point number\n",
        "- `bool(age_str)` → boolean (`True` if non-empty string)\n",
        "\n",
        "Ensure you convert before doing math or comparisons."
      ]
    },
    {
      "cell_type": "code",
      "execution_count": 5,
      "metadata": {},
      "outputs": [
        {
          "name": "stdout",
          "output_type": "stream",
          "text": [
            "You are 20 years old, 1.7m tall, likes Python: True.\n"
          ]
        }
      ],
      "source": [
        "# Example: Input and conversion\n",
        "age_str = input(\"Enter your age: \")\n",
        "age = int(age_str)\n",
        "height_str = input(\"Enter your height in meters (e.g. 1.75): \")\n",
        "height = float(height_str)\n",
        "likes_python = input(\"Do you like Python? (yes/no): \")\n",
        "likes = likes_python.lower() == 'yes'\n",
        "\n",
        "print(f\"You are {age} years old, {height}m tall, likes Python: {likes}.\")"
      ]
    },
    {
      "cell_type": "markdown",
      "metadata": {},
      "source": [
        "# 5. Control Flow & Functions\n",
        "Control flow is like traffic signals for your program—telling it when to stop, turn, or go straight. Functions are recipes you can reuse.\n",
        "\n",
        "**By the end of this lesson you will:**\n",
        "- Make decisions with `if`/`elif`/`else`\n",
        "- Repeat tasks with `for` and `while` loops\n",
        "- Write reusable code with functions\n",
        "\n",
        "## If Statements: Traffic Lights\n",
        "```python\n",
        "if temperature > 20:\n",
        "    print(\"It's warm today!\")\n",
        "else:\n",
        "    print(\"Grab a sweater!\")\n",
        "```\n",
        "## Loops: Running Laps\n",
        "- `for i in range(5):` ⇒ repeat 5 times\n",
        "- `while condition:` ⇒ repeat until condition is False\n",
        "\n",
        "## Functions: Writing Recipes\n",
        "Define once, use anywhere."
      ]
    },
    {
      "cell_type": "code",
      "execution_count": 6,
      "metadata": {},
      "outputs": [
        {
          "name": "stdout",
          "output_type": "stream",
          "text": [
            "It's warm today!\n",
            "Lap 1\n",
            "Lap 2\n",
            "Lap 3\n",
            "Lap 4\n",
            "Lap 5\n",
            "Counting down: 3\n",
            "Counting down: 2\n",
            "Counting down: 1\n",
            "Hello, Sam!\n"
          ]
        }
      ],
      "source": [
        "# If example\n",
        "temperature = 22\n",
        "if temperature > 20:\n",
        "    print(\"It's warm today!\")\n",
        "else:\n",
        "    print(\"Grab a sweater!\")\n",
        "\n",
        "# For loop example\n",
        "for i in range(1, 6):\n",
        "    print(f\"Lap {i}\")\n",
        "\n",
        "# While loop example\n",
        "count = 3\n",
        "while count > 0:\n",
        "    print(f\"Counting down: {count}\")\n",
        "    count -= 1\n",
        "\n",
        "# Function example\n",
        "def greet(name):\n",
        "    return f\"Hello, {name}!\"\n",
        "\n",
        "print(greet(\"Sam\"))"
      ]
    },
    {
      "cell_type": "markdown",
      "metadata": {},
      "source": [
        "# 6. Data Structures (Lists, Dicts, Sets)\n",
        "Choose the right container for your data:\n",
        "\n",
        "- **List**: An ordered collection (like a shopping list)\n",
        "- **Dictionary**: Key→value pairs (like a phonebook)\n",
        "- **Set**: A collection of unique items\n",
        "\n",
        "**In this lesson you will:**\n",
        "- Create, access, and modify each structure\n",
        "- Iterate over items"
      ]
    },
    {
      "cell_type": "code",
      "execution_count": 7,
      "metadata": {},
      "outputs": [
        {
          "name": "stdout",
          "output_type": "stream",
          "text": [
            "['apple', 'banana', 'cherry']\n",
            "{'Alice': '1234', 'Bob': '5678'}\n",
            "{1, 2, 3}\n"
          ]
        }
      ],
      "source": [
        "# List example\n",
        "fruits = [\"apple\", \"banana\", \"cherry\"]\n",
        "print(fruits)\n",
        "\n",
        "# Dictionary example\n",
        "phonebook = {\"Alice\": \"1234\", \"Bob\": \"5678\"}\n",
        "print(phonebook)\n",
        "\n",
        "# Set example\n",
        "unique_numbers = {1, 2, 2, 3}\n",
        "print(unique_numbers)  # duplicates removed"
      ]
    },
    {
      "cell_type": "markdown",
      "metadata": {},
      "source": [
        "# 7. File I/O & Exception Handling\n",
        "Files are like notebooks on your shelf. Exception handling is having an eraser for mistakes.\n",
        "\n",
        "**In this lesson you will:**\n",
        "- Read from and write to files\n",
        "- Use `try`/`except` to catch errors"
      ]
    },
    {
      "cell_type": "code",
      "execution_count": 8,
      "metadata": {},
      "outputs": [
        {
          "name": "stdout",
          "output_type": "stream",
          "text": [
            "Hello, file!\n"
          ]
        }
      ],
      "source": [
        "# Write to a file\n",
        "with open('data.txt', 'w') as f:\n",
        "    f.write('Hello, file!\\n')\n",
        "\n",
        "# Read from file with error handling\n",
        "try:\n",
        "    with open('data.txt', 'r') as f:\n",
        "        for line in f:\n",
        "            print(line.strip())\n",
        "except FileNotFoundError:\n",
        "    print('File not found!')"
      ]
    },
    {
      "cell_type": "markdown",
      "metadata": {},
      "source": [
        "# 8. Object-Oriented Programming (OOP)\n",
        "Classes are blueprints and objects are the houses you build from them.\n",
        "\n",
        "**In this lesson you will:**\n",
        "- Define classes with attributes and methods\n",
        "- Instantiate and use objects"
      ]
    },
    {
      "cell_type": "code",
      "execution_count": 9,
      "metadata": {},
      "outputs": [
        {
          "name": "stdout",
          "output_type": "stream",
          "text": [
            "Buddy says Woof!\n"
          ]
        }
      ],
      "source": [
        "class Dog:\n",
        "    def __init__(self, name):\n",
        "        self.name = name\n",
        "    def bark(self):\n",
        "        print(f\"{self.name} says Woof!\")\n",
        "\n",
        "my_dog = Dog(\"Buddy\")\n",
        "my_dog.bark()"
      ]
    },
    {
      "cell_type": "markdown",
      "metadata": {},
      "source": [
        "# 9. Modules, Packages & Virtual Environments\n",
        "Modules are single files of code. Packages are folders of modules. Virtual environments keep project dependencies separate.\n",
        "\n",
        "**In this lesson you will:**\n",
        "- Import modules\n",
        "- Create and activate a virtual environment"
      ]
    },
    {
      "cell_type": "code",
      "execution_count": 10,
      "metadata": {},
      "outputs": [
        {
          "name": "stdout",
          "output_type": "stream",
          "text": [
            "4.0\n"
          ]
        }
      ],
      "source": [
        "# Module import example\n",
        "import math\n",
        "print(math.sqrt(16))"
      ]
    },
    {
      "cell_type": "markdown",
      "metadata": {},
      "source": [
        "# 10. Testing, Debugging & Popular Libraries\n",
        "Testing is like checking your homework. Debugging is fixing mistakes. Libraries are tools others have built to help you.\n",
        "\n",
        "**In this lesson you will:**\n",
        "- Write simple tests with `assert`\n",
        "- Use print statements to debug\n",
        "- Explore libraries like `numpy` and `pandas`"
      ]
    },
    {
      "cell_type": "code",
      "execution_count": 11,
      "metadata": {},
      "outputs": [
        {
          "name": "stdout",
          "output_type": "stream",
          "text": [
            "Test passed!\n"
          ]
        }
      ],
      "source": [
        "# Simple test\n",
        "def add(a, b):\n",
        "    return a + b\n",
        "\n",
        "assert add(2, 3) == 5\n",
        "print('Test passed!')"
      ]
    }
  ],
  "metadata": {
    "kernelspec": {
      "display_name": "Python 3",
      "language": "python",
      "name": "python3"
    },
    "language_info": {
      "codemirror_mode": {
        "name": "ipython",
        "version": 3
      },
      "file_extension": ".py",
      "mimetype": "text/x-python",
      "name": "python",
      "nbconvert_exporter": "python",
      "pygments_lexer": "ipython3",
      "version": "3.11.1"
    }
  },
  "nbformat": 4,
  "nbformat_minor": 2
}
